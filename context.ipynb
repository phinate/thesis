{
 "cells": [
  {
   "cell_type": "markdown",
   "metadata": {},
   "source": [
    "# Context\n",
    "\n",
    "- state of the field of particle physics (hi-lumi, pileup, no signs of new physics)\n",
    "- state of the field of ML (huge progress even during my PhD time, from new architecures e.g. transformers to the rise of LLMs, dalle, score-based diffusion models etc)\n",
    "- Even the fact that jaxopt came out during my phd and we used it straight away!\n",
    "- "
   ]
  },
  {
   "cell_type": "code",
   "execution_count": 2,
   "metadata": {},
   "outputs": [
    {
     "name": "stderr",
     "output_type": "stream",
     "text": [
      "Fontconfig warning: ignoring UTF-8: not a valid region tag\n",
      "Fontconfig warning: ignoring UTF-8: not a valid region tag\n",
      "Fontconfig warning: ignoring UTF-8: not a valid region tag\n",
      "Fontconfig warning: ignoring UTF-8: not a valid region tag\n",
      "Fontconfig warning: ignoring UTF-8: not a valid region tag\n",
      "Fontconfig warning: ignoring UTF-8: not a valid region tag\n",
      "Fontconfig warning: ignoring UTF-8: not a valid region tag\n",
      "Fontconfig warning: ignoring UTF-8: not a valid region tag\n",
      "Fontconfig warning: ignoring UTF-8: not a valid region tag\n"
     ]
    }
   ],
   "source": [
    "import os\n",
    "import glob\n",
    "from re import sub\n",
    "import subprocess\n",
    "\n",
    "for fname in glob.glob(\"images/sh/*.pdf\"):\n",
    "    subprocess.run(\n",
    "        [\n",
    "            \"inkscape\",\n",
    "            \"--pdf-poppler\",\n",
    "            fname,\n",
    "            \"-T\",\n",
    "            \"-l\",\n",
    "            \"-o\",\n",
    "            fname.split(\".pdf\")[0] + \".svg\",\n",
    "        ]\n",
    "    )"
   ]
  },
  {
   "cell_type": "code",
   "execution_count": 6,
   "metadata": {},
   "outputs": [
    {
     "name": "stdout",
     "output_type": "stream",
     "text": [
      "Fontconfig warning: ignoring UTF-8: not a valid region tag\n",
      "Shortcut::add_shortcut: duplicate shortcut found for: <Primary>comma  Old: app.preferences  New: app.transform-scale(0.5) !\n"
     ]
    }
   ],
   "source": [
    "!inkscape images/fanout.svg --export-area-drawing --batch-process --export-type=pdf --export-filename=images/fanout.pdf"
   ]
  },
  {
   "cell_type": "code",
   "execution_count": null,
   "metadata": {},
   "outputs": [],
   "source": [
    "pip install"
   ]
  }
 ],
 "metadata": {
  "kernelspec": {
   "display_name": "Python 3.9.12 ('venv': venv)",
   "language": "python",
   "name": "python3"
  },
  "language_info": {
   "codemirror_mode": {
    "name": "ipython",
    "version": 3
   },
   "file_extension": ".py",
   "mimetype": "text/x-python",
   "name": "python",
   "nbconvert_exporter": "python",
   "pygments_lexer": "ipython3",
   "version": "3.9.12"
  },
  "orig_nbformat": 4,
  "vscode": {
   "interpreter": {
    "hash": "651f2bad27d44a91877bf2ed58cd15f6a905a1a50516233d74eca5c893c3c6fd"
   }
  }
 },
 "nbformat": 4,
 "nbformat_minor": 2
}

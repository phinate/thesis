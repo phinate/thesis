{
 "cells": [
  {
   "cell_type": "markdown",
   "metadata": {},
   "source": [
    "# Context\n",
    "\n",
    "- state of the field of particle physics (hi-lumi, pileup, no signs of new physics)\n",
    "- state of the field of ML (huge progress even during my PhD time, from new architecures e.g. transformers to the rise of LLMs, dalle, score-based diffusion models etc)\n",
    "- Even the fact that jaxopt came out during my phd and we used it straight away!\n",
    "- "
   ]
  }
 ],
 "metadata": {
  "kernelspec": {
   "display_name": "Python 3.9.12 ('venv': venv)",
   "language": "python",
   "name": "python3"
  },
  "language_info": {
   "name": "python",
   "version": "3.9.12"
  },
  "orig_nbformat": 4,
  "vscode": {
   "interpreter": {
    "hash": "651f2bad27d44a91877bf2ed58cd15f6a905a1a50516233d74eca5c893c3c6fd"
   }
  }
 },
 "nbformat": 4,
 "nbformat_minor": 2
}

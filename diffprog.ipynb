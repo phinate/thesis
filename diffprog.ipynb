{
 "cells": [
  {
   "cell_type": "markdown",
   "metadata": {},
   "source": [
    "# Differentiable programming\n",
    "\n",
    "- what is diffprog, with commentary on the growing meaning in reality?\n",
    "- examples of differentiable programming in the wild:\n",
    "    - alphafold\n",
    "    - cosmology stuff\n",
    "    - great stuff in here, can translate some of it for the intro bit https://www.nature.com/articles/s41592-021-01283-4.pdf?proof=thttps%3A%2F%2Fwww.nature.com%2Farticles%2Fsj.bdj.2014.353%3Fproof%3Dt\n",
    "    - lagrangian neural networks...? https://arxiv.org/abs/2003.04630\n",
    "    - draw the line between inductive bias\n",
    "    \n"
   ]
  }
 ],
 "metadata": {
  "kernelspec": {
   "display_name": "Python 3.9.12 ('venv': venv)",
   "language": "python",
   "name": "python3"
  },
  "language_info": {
   "codemirror_mode": {
    "name": "ipython",
    "version": 3
   },
   "file_extension": ".py",
   "mimetype": "text/x-python",
   "name": "python",
   "nbconvert_exporter": "python",
   "pygments_lexer": "ipython3",
   "version": "3.9.12"
  },
  "orig_nbformat": 4,
  "vscode": {
   "interpreter": {
    "hash": "651f2bad27d44a91877bf2ed58cd15f6a905a1a50516233d74eca5c893c3c6fd"
   }
  }
 },
 "nbformat": 4,
 "nbformat_minor": 2
}

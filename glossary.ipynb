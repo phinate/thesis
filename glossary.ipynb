{
 "cells": [
  {
   "cell_type": "markdown",
   "metadata": {},
   "source": [
    "# Glossary\n",
    "\n",
    "Sensitivity:\n",
    "Significance:\n",
    "$p$-value:\n",
    "Summary statistic:\n",
    "Likelihood:\n",
    "CL_s: "
   ]
  }
 ],
 "metadata": {
  "language_info": {
   "name": "python"
  },
  "orig_nbformat": 4
 },
 "nbformat": 4,
 "nbformat_minor": 2
}
